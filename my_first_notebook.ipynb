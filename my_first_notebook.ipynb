{
 "cells": [
  {
   "cell_type": "code",
   "execution_count": 7,
   "id": "1acc240b",
   "metadata": {},
   "outputs": [
    {
     "name": "stdout",
     "output_type": "stream",
     "text": [
      "hello world\n"
     ]
    }
   ],
   "source": [
    "print ('hello world')\n"
   ]
  },
  {
   "cell_type": "markdown",
   "id": "851e4176",
   "metadata": {},
   "source": [
    "test test test\n"
   ]
  },
  {
   "cell_type": "code",
   "execution_count": 6,
   "id": "e8b52262",
   "metadata": {},
   "outputs": [
    {
     "data": {
      "text/plain": [
       "2"
      ]
     },
     "execution_count": 6,
     "metadata": {},
     "output_type": "execute_result"
    }
   ],
   "source": [
    "1+1"
   ]
  },
  {
   "cell_type": "code",
   "execution_count": 10,
   "id": "65148e06",
   "metadata": {},
   "outputs": [
    {
     "name": "stdout",
     "output_type": "stream",
     "text": [
      "((̲̅ ̲̅(̲̅C̲̅r̲̅a̲̅y̲̅o̲̅l̲̲̅̅a̲̅( ̲̅((>\n"
     ]
    }
   ],
   "source": [
    "print('((̲̅ ̲̅(̲̅C̲̅r̲̅a̲̅y̲̅o̲̅l̲̲̅̅a̲̅( ̲̅((>')"
   ]
  },
  {
   "cell_type": "markdown",
   "id": "16e8e178",
   "metadata": {},
   "source": [
    "Run cell and go to next cell: ⌘ + enter"
   ]
  },
  {
   "cell_type": "markdown",
   "id": "a503c7e6",
   "metadata": {},
   "source": [
    "Save notebook: ⌘ + enter"
   ]
  },
  {
   "cell_type": "markdown",
   "id": "60e7184f",
   "metadata": {},
   "source": [
    "Edit cell: enter"
   ]
  },
  {
   "cell_type": "markdown",
   "id": "8f3a9320",
   "metadata": {},
   "source": []
  }
 ],
 "metadata": {
  "kernelspec": {
   "display_name": "Python 3 (ipykernel)",
   "language": "python",
   "name": "python3"
  },
  "language_info": {
   "codemirror_mode": {
    "name": "ipython",
    "version": 3
   },
   "file_extension": ".py",
   "mimetype": "text/x-python",
   "name": "python",
   "nbconvert_exporter": "python",
   "pygments_lexer": "ipython3",
   "version": "3.9.7"
  }
 },
 "nbformat": 4,
 "nbformat_minor": 5
}
